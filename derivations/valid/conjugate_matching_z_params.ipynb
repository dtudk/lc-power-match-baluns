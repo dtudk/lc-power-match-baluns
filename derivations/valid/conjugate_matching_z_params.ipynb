{
 "cells": [
  {
   "cell_type": "code",
   "execution_count": null,
   "metadata": {},
   "outputs": [],
   "source": [
    "\"\"\"\n",
    "This file is part of lc-power-match-baluns.\n",
    "Copyright © 2023 Technical University of Denmark (developed by Rasmus Jepsen)\n",
    "\n",
    "This library is free software; you can redistribute it and/or\n",
    "modify it under the terms of the GNU Lesser General Public\n",
    "License as published by the Free Software Foundation; either\n",
    "version 2.1 of the License, or (at your option) any later version.\n",
    "\n",
    "This library is distributed in the hope that it will be useful,\n",
    "but WITHOUT ANY WARRANTY; without even the implied warranty of\n",
    "MERCHANTABILITY or FITNESS FOR A PARTICULAR PURPOSE.  See the GNU\n",
    "Lesser General Public License for more details.\n",
    "\n",
    "You should have received a copy of the GNU Lesser General Public\n",
    "License along with this library; if not, write to the Free Software\n",
    "Foundation, Inc., 51 Franklin Street, Fifth Floor, Boston, MA  02110-1301  USA\n",
    "\"\"\""
   ]
  },
  {
   "cell_type": "code",
   "execution_count": null,
   "metadata": {},
   "outputs": [],
   "source": [
    "\"\"\"\n",
    "This notebook is used to find solutions for the reactance parameters of power matching networks.\n",
    "\"\"\""
   ]
  },
  {
   "cell_type": "code",
   "execution_count": null,
   "metadata": {},
   "outputs": [],
   "source": [
    "# import modules\n",
    "from lcapy import Circuit, oo, expr, symbol, j, Eq, Z, Matrix, TPZ\n",
    "from lcapy.expr import symbols"
   ]
  },
  {
   "cell_type": "code",
   "execution_count": null,
   "metadata": {},
   "outputs": [],
   "source": [
    "# initialise symbols\n",
    "\n",
    "# reactance parameters\n",
    "x_11, x_12, x_22 = symbols('X_11 X_12 X_22', real=True)\n",
    "\n",
    "# resistances of the load and source\n",
    "r_l, r_s = symbols('R_L R_S', real=True)\n",
    "\n",
    "# reactances of the load and source\n",
    "x_l, x_s = symbols('X_L X_S', real=True)"
   ]
  },
  {
   "cell_type": "code",
   "execution_count": null,
   "metadata": {},
   "outputs": [],
   "source": [
    "# create a two-port model with the reactance parameters\n",
    "twoport = TPZ(j * x_11, j * x_12, j * x_12, j * x_22)\n",
    "twoport.Zparams"
   ]
  },
  {
   "cell_type": "code",
   "execution_count": null,
   "metadata": {},
   "outputs": [],
   "source": [
    "# calculate the input impedance of the two-port with the load connected\n",
    "loaded = twoport.load(Z(r_l + x_l * j))\n",
    "zin = loaded.Z.simplify()\n",
    "zin"
   ]
  },
  {
   "cell_type": "code",
   "execution_count": null,
   "metadata": {},
   "outputs": [],
   "source": [
    "# calculate the output impedance of the two-port with the source connected\n",
    "sourced = twoport.source(Z(r_s + x_s * j))\n",
    "zout = sourced.Z.simplify()\n",
    "zout"
   ]
  },
  {
   "cell_type": "code",
   "execution_count": null,
   "metadata": {},
   "outputs": [],
   "source": [
    "# solve for the reactance parameters given that the input impedance is the complex conjugate of the source impedance\n",
    "system = expr([Eq(zin, r_s - j * x_s)])\n",
    "unknowns = expr((x_12, x_22))\n",
    "solutions_in = system.solve(unknowns)\n",
    "solutions_in"
   ]
  },
  {
   "cell_type": "code",
   "execution_count": null,
   "metadata": {},
   "outputs": [],
   "source": [
    "# check that the output impedance is the conjugate of the load impedance for the first solution\n",
    "zout.subs(list((unknown, solutions_in[0][i]) for i, unknown in enumerate(unknowns))).simplify()"
   ]
  },
  {
   "cell_type": "code",
   "execution_count": null,
   "metadata": {},
   "outputs": [],
   "source": [
    "# check that the output impedance is the conjugate of the load impedance for the second solution\n",
    "zout.subs(list((unknown, solutions_in[1][i]) for i, unknown in enumerate(unknowns))).simplify()"
   ]
  }
 ],
 "metadata": {
  "kernelspec": {
   "display_name": "Python 3",
   "language": "python",
   "name": "python3"
  },
  "language_info": {
   "codemirror_mode": {
    "name": "ipython",
    "version": 3
   },
   "file_extension": ".py",
   "mimetype": "text/x-python",
   "name": "python",
   "nbconvert_exporter": "python",
   "pygments_lexer": "ipython3",
   "version": "3.11.3"
  }
 },
 "nbformat": 4,
 "nbformat_minor": 2
}
