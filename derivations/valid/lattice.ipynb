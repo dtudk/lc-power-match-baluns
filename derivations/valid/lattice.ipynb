{
 "cells": [
  {
   "cell_type": "code",
   "execution_count": null,
   "metadata": {},
   "outputs": [],
   "source": [
    "\"\"\"\n",
    "This file is part of lc-power-match-baluns.\n",
    "Copyright © 2023 Technical University of Denmark (developed by Rasmus Jepsen)\n",
    "\n",
    "This library is free software; you can redistribute it and/or\n",
    "modify it under the terms of the GNU Lesser General Public\n",
    "License as published by the Free Software Foundation; either\n",
    "version 2.1 of the License, or (at your option) any later version.\n",
    "\n",
    "This library is distributed in the hope that it will be useful,\n",
    "but WITHOUT ANY WARRANTY; without even the implied warranty of\n",
    "MERCHANTABILITY or FITNESS FOR A PARTICULAR PURPOSE.  See the GNU\n",
    "Lesser General Public License for more details.\n",
    "\n",
    "You should have received a copy of the GNU Lesser General Public\n",
    "License along with this library; if not, write to the Free Software\n",
    "Foundation, Inc., 51 Franklin Street, Fifth Floor, Boston, MA  02110-1301  USA\n",
    "\"\"\""
   ]
  },
  {
   "cell_type": "code",
   "execution_count": null,
   "metadata": {},
   "outputs": [],
   "source": [
    "\"\"\"\n",
    "This notebook shows the process that was used to determine the design equations for the novel lattice power matching LC balun topology.\n",
    "\n",
    "Symmetric lattice baluns have previously been used for real-real matching [1],\n",
    "though they require extra elements if used for complex impedance matching.\n",
    "This topology relaxes the symmetry constraint to provide complex impedance matching with four elements.\n",
    "Apel and Page [2] have also previously considered a balun network that resembles a specific case of an asymmetric lattice balun.\n",
    "\"\"\""
   ]
  },
  {
   "cell_type": "code",
   "execution_count": null,
   "metadata": {},
   "outputs": [],
   "source": [
    "# import modules\n",
    "from lcapy import Circuit, oo, expr, symbol, j, Eq, Z, Matrix, limit, one\n",
    "from lcapy.expr import symbols"
   ]
  },
  {
   "cell_type": "code",
   "execution_count": null,
   "metadata": {},
   "outputs": [],
   "source": [
    "# create lcapy circuit from netlist\n",
    "# the balanced port is between nodes 1 and 3, and the unbalanced port is between nodes 2 and 0\n",
    "balun_cct = Circuit(\"\"\"\n",
    "Z2 1 2_0; right\n",
    "W 2_0 2; right\n",
    "Z4 2 3; rotate=225\n",
    "W 3 3_0; rotate=225\n",
    "Z3 3_0 0; right\n",
    "W 1_0 1; right\n",
    "Z1 1_0 0_0; rotate=-45\n",
    "W 0_1 0; rotate=-45\n",
    "W 0_0 0_1; right\n",
    "\"\"\")\n",
    "balun_cct.draw()"
   ]
  },
  {
   "cell_type": "code",
   "execution_count": null,
   "metadata": {},
   "outputs": [],
   "source": [
    "# create a differential mode two-port model\n",
    "balun_twoport = balun_cct.twoport(1, 3, 2, 0)"
   ]
  },
  {
   "cell_type": "code",
   "execution_count": null,
   "metadata": {},
   "outputs": [],
   "source": [
    "# retrieve the three-port Z parameters\n",
    "balun_threeport_z = balun_cct.Zparamsn(2,0,1,0,3,0)\n",
    "balun_threeport_z"
   ]
  },
  {
   "cell_type": "code",
   "execution_count": null,
   "metadata": {},
   "outputs": [],
   "source": [
    "# initialise symbols\n",
    "\n",
    "# resistances of the balanced and unbalanced ports\n",
    "r_b, r_u = symbols('R_B R_U', real=True)\n",
    "\n",
    "# reactances of the balanced and unbalanced ports\n",
    "x_b, x_u = symbols('X_B X_U', real=True)\n",
    "\n",
    "# impedances of the balanced and unbalanced ports\n",
    "z_b, z_u = symbols('Z_B Z_U', complex=True)\n",
    "\n",
    "# element reactances\n",
    "x_1, x_2, x_3, x_4 = symbols('X_1 X_2 X_3 X_4', real=True)"
   ]
  },
  {
   "cell_type": "code",
   "execution_count": null,
   "metadata": {},
   "outputs": [],
   "source": [
    "# The technique described in [3] is used to convert the three-port impedance matrix to three-port scattering parameters."
   ]
  },
  {
   "cell_type": "code",
   "execution_count": null,
   "metadata": {},
   "outputs": [],
   "source": [
    "# initialise matrices for converting Z-parameters to S-parameters\n",
    "\n",
    "f = Matrix(((z_u.real ** 0.5 / 2, 0, 0), (0, (z_b.real / 2) ** 0.5 / 2, 0), (0, 0, (z_b.real / 2) ** 0.5 / 2)))\n",
    "\n",
    "g = Matrix(((z_u, 0, 0), (0, z_b / 2, 0), (0, 0, z_b / 2)))\n",
    "\n",
    "g_plus = Matrix(((z_u.conj, 0, 0), (0, z_b.conj / 2, 0), (0, 0, z_b.conj / 2)))"
   ]
  },
  {
   "cell_type": "code",
   "execution_count": null,
   "metadata": {},
   "outputs": [],
   "source": [
    "# calculate the renormalised three-port scattering parameters\n",
    "balun_threeport_s = f * (balun_threeport_z - g_plus) * (balun_threeport_z + g).inv() * f.inv()\n",
    "balun_threeport_s"
   ]
  },
  {
   "cell_type": "code",
   "execution_count": null,
   "metadata": {},
   "outputs": [],
   "source": [
    "# The method described in [4] is used to calculate the common-mode rejection ratio (CMRR)."
   ]
  },
  {
   "cell_type": "code",
   "execution_count": null,
   "metadata": {},
   "outputs": [],
   "source": [
    "# calculate common-mode response\n",
    "balun_cct_s21cs = expr('1/sqrt(2)') * (balun_threeport_s[1,0] + balun_threeport_s[2,0])\n",
    "balun_cct_s21cs.simplify()"
   ]
  },
  {
   "cell_type": "code",
   "execution_count": null,
   "metadata": {},
   "outputs": [],
   "source": [
    "# calculate differential-mode response\n",
    "balun_cct_s21ds = expr('1/sqrt(2)') * (balun_threeport_s[1,0] - balun_threeport_s[2,0])\n",
    "balun_cct_s21ds.simplify()"
   ]
  },
  {
   "cell_type": "code",
   "execution_count": null,
   "metadata": {},
   "outputs": [],
   "source": [
    "# variable substitutions for later steps\n",
    "substitutions = {'Z1': j * x_1, 'Z2': j * x_2, 'Z3': j * x_3, 'Z4': j * x_4, 'Z_B': r_b + j * x_b, 'Z_U': r_u + j * x_u}"
   ]
  },
  {
   "cell_type": "code",
   "execution_count": null,
   "metadata": {},
   "outputs": [],
   "source": [
    "# find the inverse of the CMRR (this should be 0 for an ideal balun)\n",
    "inv_cmrr = (balun_cct_s21cs / balun_cct_s21ds).subs(substitutions).simplify()\n",
    "inv_cmrr"
   ]
  },
  {
   "cell_type": "code",
   "execution_count": null,
   "metadata": {},
   "outputs": [],
   "source": [
    "# solve for element reactances that achieve infinite CMRR\n",
    "# the numerator of inv_cmrr is used as this makes the solver more reliable\n",
    "cmrr_system = expr([Eq(inv_cmrr.N, 0)])\n",
    "cmrr_unknowns = expr((x_1, x_2, x_3, x_4))\n",
    "cmrr_solutions = cmrr_system.solve(cmrr_unknowns)\n",
    "cmrr_solutions"
   ]
  },
  {
   "cell_type": "code",
   "execution_count": null,
   "metadata": {},
   "outputs": [],
   "source": [
    "# substitute the values back into inv_cmrr to check\n",
    "# because cmrr_solutions[2] is the only solution that yields an inv_cmrr of 0, it is the only valid solution\n",
    "inv_cmrr_subbed = list(inv_cmrr.subs(list((unknown, sol[i]) for i, unknown in enumerate(cmrr_unknowns))).simplify() for sol in cmrr_solutions)\n",
    "inv_cmrr_subbed"
   ]
  },
  {
   "cell_type": "code",
   "execution_count": null,
   "metadata": {},
   "outputs": [],
   "source": [
    "# find the impedance parameters of the two-port model of the network\n",
    "twoport_z = balun_twoport.Zparams.subs(substitutions).simplify()\n",
    "twoport_z"
   ]
  },
  {
   "cell_type": "code",
   "execution_count": null,
   "metadata": {},
   "outputs": [],
   "source": [
    "# find the impedance parameters of the two-port model of the network\n",
    "twoport_z_subbed = twoport_z.subs(x_1, cmrr_solutions[2][0]).subs(x_2, cmrr_solutions[2][1]).simplify()\n",
    "twoport_z_subbed"
   ]
  },
  {
   "cell_type": "code",
   "execution_count": null,
   "metadata": {},
   "outputs": [],
   "source": [
    "\"\"\"Using the impedance parameters, the remaining element reactances will be solved such that power matching is achieved.\n",
    "For more details, see conjugate_matching_z_params.ipynb\n",
    "\"\"\""
   ]
  },
  {
   "cell_type": "code",
   "execution_count": null,
   "metadata": {},
   "outputs": [],
   "source": [
    "# initialise symbols for reactance parameters\n",
    "x_11, x_12, x_22 = symbols('X_11 X_12 X_22', real=True)"
   ]
  },
  {
   "cell_type": "code",
   "execution_count": null,
   "metadata": {},
   "outputs": [],
   "source": [
    "system_1 = expr([Eq(twoport_z_subbed[0, 0].imag.simplify(), x_11),\n",
    "                 Eq(twoport_z_subbed[0, 1].imag.simplify() ** 2, (r_u * (r_b ** 2 + x_11 ** 2 + 2 * x_11 * x_b + x_b ** 2) / r_b)),\n",
    "                 Eq(twoport_z_subbed[1, 1].imag.simplify(), (r_u * x_11 + r_u * x_b - r_b * x_u) / r_b)])\n",
    "unknowns_1 = expr((x_3, x_4, x_11))\n",
    "solutions_1 = system_1.solve(unknowns_1)\n",
    "solutions_1"
   ]
  },
  {
   "cell_type": "code",
   "execution_count": null,
   "metadata": {},
   "outputs": [],
   "source": [
    "# The final design equations are presented below:\n",
    "# Note that the two solutions result in equivalent networks, with X1 and X3, and X2 and X4 being swapped.\n",
    "# Therefore, only one solution is presented in the paper.\n",
    "# These equations have been further simplified in the paper."
   ]
  },
  {
   "cell_type": "code",
   "execution_count": null,
   "metadata": {},
   "outputs": [],
   "source": [
    "# x_1 first solution\n",
    "cmrr_solutions[2][0].subs(x_3, solutions_1[0][0]).subs(x_4, solutions_1[0][1]).simplify()"
   ]
  },
  {
   "cell_type": "code",
   "execution_count": null,
   "metadata": {},
   "outputs": [],
   "source": [
    "# x_1 second solution\n",
    "cmrr_solutions[2][0].subs(x_3, solutions_1[1][0]).subs(x_4, solutions_1[1][1]).simplify()"
   ]
  },
  {
   "cell_type": "code",
   "execution_count": null,
   "metadata": {},
   "outputs": [],
   "source": [
    "# x_2 first solution\n",
    "cmrr_solutions[2][1].subs(x_3, solutions_1[0][0]).subs(x_4, solutions_1[0][1]).simplify()"
   ]
  },
  {
   "cell_type": "code",
   "execution_count": null,
   "metadata": {},
   "outputs": [],
   "source": [
    "# x_2 second solution\n",
    "cmrr_solutions[2][1].subs(x_3, solutions_1[1][0]).subs(x_4, solutions_1[1][1]).simplify()"
   ]
  },
  {
   "cell_type": "code",
   "execution_count": null,
   "metadata": {},
   "outputs": [],
   "source": [
    "# x_3 first solution\n",
    "solutions_1[0][0].simplify()"
   ]
  },
  {
   "cell_type": "code",
   "execution_count": null,
   "metadata": {},
   "outputs": [],
   "source": [
    "# x_3 second solution\n",
    "solutions_1[1][0].simplify()"
   ]
  },
  {
   "cell_type": "code",
   "execution_count": null,
   "metadata": {},
   "outputs": [],
   "source": [
    "# x_4 first solution\n",
    "solutions_1[0][1].simplify()"
   ]
  },
  {
   "cell_type": "code",
   "execution_count": null,
   "metadata": {},
   "outputs": [],
   "source": [
    "# x_4 second solution\n",
    "solutions_1[1][1].simplify()"
   ]
  },
  {
   "cell_type": "code",
   "execution_count": null,
   "metadata": {},
   "outputs": [],
   "source": [
    "\"\"\"References:\n",
    "[1] C Lorenz AG, \"Circuit arrangement for the transition from a symmetrical electrical arrangement to an asymmetrical one, in particular in the case of high-frequency arrangements,\" Germany Patent 603 816, April 1, 1932. [Online]. Available: https://patents.google.com/patent/DE603816C/en\n",
    "[2] T. R. Apel and C. E. Page, \"Lumped parameter balun,\" English, pat. 5 574 411, 1995. [Online]. Available: https://patents.google.com/patent/US5574411A/en.\n",
    "[3] K. Kurokawa, \"Power waves and the scattering matrix,\" IEEE Transactions on Microwave Theory and Techniques, vol. 13, no. 2, pp. 194–202, 1965.\n",
    "[4] D. Bockelman and W. Eisenstadt, \"Combined differential and common-mode analysis of power splitters and combiners,\" IEEE Transactions on Microwave Theory and Techniques, vol. 43, no. 11, pp. 2627–2632, 1995.\n",
    "\"\"\""
   ]
  }
 ],
 "metadata": {
  "kernelspec": {
   "display_name": "Python 3",
   "language": "python",
   "name": "python3"
  },
  "language_info": {
   "codemirror_mode": {
    "name": "ipython",
    "version": 3
   },
   "file_extension": ".py",
   "mimetype": "text/x-python",
   "name": "python",
   "nbconvert_exporter": "python",
   "pygments_lexer": "ipython3",
   "version": "3.11.3"
  }
 },
 "nbformat": 4,
 "nbformat_minor": 2
}
