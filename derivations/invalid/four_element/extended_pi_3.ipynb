{
 "cells": [
  {
   "cell_type": "code",
   "execution_count": null,
   "metadata": {},
   "outputs": [],
   "source": [
    "\"\"\"\n",
    "This file is part of lc-power-match-baluns.\n",
    "Copyright © 2023 Technical University of Denmark (developed by Rasmus Jepsen)\n",
    "\n",
    "This library is free software; you can redistribute it and/or\n",
    "modify it under the terms of the GNU Lesser General Public\n",
    "License as published by the Free Software Foundation; either\n",
    "version 2.1 of the License, or (at your option) any later version.\n",
    "\n",
    "This library is distributed in the hope that it will be useful,\n",
    "but WITHOUT ANY WARRANTY; without even the implied warranty of\n",
    "MERCHANTABILITY or FITNESS FOR A PARTICULAR PURPOSE.  See the GNU\n",
    "Lesser General Public License for more details.\n",
    "\n",
    "You should have received a copy of the GNU Lesser General Public\n",
    "License along with this library; if not, write to the Free Software\n",
    "Foundation, Inc., 51 Franklin Street, Fifth Floor, Boston, MA  02110-1301  USA\n",
    "\"\"\""
   ]
  },
  {
   "cell_type": "code",
   "execution_count": null,
   "metadata": {},
   "outputs": [],
   "source": [
    "\"\"\"\n",
    "This notebook shows that the Extended Pi topology shown below\n",
    "cannot be a power matching balun for arbitrary complex impedances.\n",
    "\"\"\""
   ]
  },
  {
   "cell_type": "code",
   "execution_count": null,
   "metadata": {},
   "outputs": [],
   "source": [
    "# import modules\n",
    "from lcapy import Circuit, oo, expr, symbol, j, Eq, Z, Matrix, limit\n",
    "from lcapy.expr import symbols"
   ]
  },
  {
   "cell_type": "code",
   "execution_count": null,
   "metadata": {},
   "outputs": [],
   "source": [
    "# create lcapy circuit from netlist\n",
    "# the balanced port is between nodes 1 and 3, and the unbalanced port is between nodes 2 and 0\n",
    "balun_cct = Circuit(\"\"\"\n",
    "Z1 1 3; down\n",
    "Z2 1 5; right\n",
    "Z3 5 4; down\n",
    "W 4 0; right\n",
    "W 3 4; right\n",
    "Z4 5 2; right\n",
    "\"\"\")\n",
    "balun_cct.draw()"
   ]
  },
  {
   "cell_type": "code",
   "execution_count": null,
   "metadata": {},
   "outputs": [],
   "source": [
    "# create a differential mode two-port model\n",
    "balun_twoport = balun_cct.twoport(1, 3, 2, 0)"
   ]
  },
  {
   "cell_type": "code",
   "execution_count": null,
   "metadata": {},
   "outputs": [],
   "source": [
    "# retrieve the three-port Z parameters\n",
    "balun_threeport_z = balun_cct.Zparamsn(2,0,1,0,3,0)\n",
    "balun_threeport_z"
   ]
  },
  {
   "cell_type": "code",
   "execution_count": null,
   "metadata": {},
   "outputs": [],
   "source": [
    "# initialise symbols\n",
    "\n",
    "# resistances of the balanced and unbalanced ports\n",
    "r_b, r_u = symbols('R_B R_U', real=True)\n",
    "\n",
    "# reactances of the balanced and unbalanced ports\n",
    "x_b, x_u = symbols('X_B X_U', real=True)\n",
    "\n",
    "# impedances of the balanced and unbalanced ports\n",
    "z_b, z_u = symbols('Z_B Z_U', complex=True)\n",
    "\n",
    "# element reactances\n",
    "x_1, x_2, x_3, x_4 = symbols('X_1 X_2 X_3 X_4', real=True)"
   ]
  },
  {
   "cell_type": "code",
   "execution_count": null,
   "metadata": {},
   "outputs": [],
   "source": [
    "# The technique described in [1] is used to convert the three-port impedance matrix to three-port scattering parameters."
   ]
  },
  {
   "cell_type": "code",
   "execution_count": null,
   "metadata": {},
   "outputs": [],
   "source": [
    "# initialise matrices for converting Z-parameters to S-parameters\n",
    "\n",
    "f = Matrix(((z_u.real ** 0.5 / 2, 0, 0), (0, (z_b.real / 2) ** 0.5 / 2, 0), (0, 0, (z_b.real / 2) ** 0.5 / 2)))\n",
    "\n",
    "g = Matrix(((z_u, 0, 0), (0, z_b / 2, 0), (0, 0, z_b / 2)))\n",
    "\n",
    "g_plus = Matrix(((z_u.conj, 0, 0), (0, z_b.conj / 2, 0), (0, 0, z_b.conj / 2)))"
   ]
  },
  {
   "cell_type": "code",
   "execution_count": null,
   "metadata": {},
   "outputs": [],
   "source": [
    "# calculate the renormalised three-port scattering parameters\n",
    "balun_threeport_s = f * (balun_threeport_z - g_plus) * (balun_threeport_z + g).inv() * f.inv()\n",
    "balun_threeport_s"
   ]
  },
  {
   "cell_type": "code",
   "execution_count": null,
   "metadata": {},
   "outputs": [],
   "source": [
    "# The method described in [2] is used to calculate the common-mode rejection ratio (CMRR)."
   ]
  },
  {
   "cell_type": "code",
   "execution_count": null,
   "metadata": {},
   "outputs": [],
   "source": [
    "# calculate common-mode response\n",
    "balun_cct_s21cs = expr('1/sqrt(2)') * (balun_threeport_s[1,0] + balun_threeport_s[2,0])\n",
    "balun_cct_s21cs.simplify()"
   ]
  },
  {
   "cell_type": "code",
   "execution_count": null,
   "metadata": {},
   "outputs": [],
   "source": [
    "# calculate differential-mode response\n",
    "balun_cct_s21ds = expr('1/sqrt(2)') * (balun_threeport_s[1,0] - balun_threeport_s[2,0])\n",
    "balun_cct_s21ds.simplify()"
   ]
  },
  {
   "cell_type": "code",
   "execution_count": null,
   "metadata": {},
   "outputs": [],
   "source": [
    "# variable substitutions for later steps\n",
    "substitutions = {'Z1': j * x_1, 'Z2': j * x_2, 'Z3': j * x_3, 'Z4': j * x_4, 'Z_B': r_b + j * x_b, 'Z_U': r_u + j * x_u}"
   ]
  },
  {
   "cell_type": "code",
   "execution_count": null,
   "metadata": {},
   "outputs": [],
   "source": [
    "# find the inverse of the CMRR (this should be 0 for an ideal balun)\n",
    "inv_cmrr = (balun_cct_s21cs / balun_cct_s21ds).subs(substitutions).simplify()\n",
    "inv_cmrr"
   ]
  },
  {
   "cell_type": "code",
   "execution_count": null,
   "metadata": {},
   "outputs": [],
   "source": [
    "\"\"\"Because the elements cannot be configured to yield an infinite CMRR,\n",
    "this topology cannot be used as a balun.\n",
    "\"\"\""
   ]
  },
  {
   "cell_type": "code",
   "execution_count": null,
   "metadata": {},
   "outputs": [],
   "source": [
    "\"\"\"References:\n",
    "[1] K. Kurokawa, \"Power waves and the scattering matrix,\" IEEE Transactions on Microwave Theory and Techniques, vol. 13, no. 2, pp. 194–202, 1965.\n",
    "[2] D. Bockelman and W. Eisenstadt, \"Combined differential and common-mode analysis of power splitters and combiners,\" IEEE Transactions on Microwave Theory and Techniques, vol. 43, no. 11, pp. 2627–2632, 1995.\n",
    "\"\"\""
   ]
  }
 ],
 "metadata": {
  "kernelspec": {
   "display_name": "Python 3",
   "language": "python",
   "name": "python3"
  },
  "language_info": {
   "codemirror_mode": {
    "name": "ipython",
    "version": 3
   },
   "file_extension": ".py",
   "mimetype": "text/x-python",
   "name": "python",
   "nbconvert_exporter": "python",
   "pygments_lexer": "ipython3",
   "version": "3.11.3"
  }
 },
 "nbformat": 4,
 "nbformat_minor": 2
}
