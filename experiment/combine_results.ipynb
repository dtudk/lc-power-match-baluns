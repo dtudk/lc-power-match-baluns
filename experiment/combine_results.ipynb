{
 "cells": [
  {
   "cell_type": "code",
   "execution_count": null,
   "metadata": {},
   "outputs": [],
   "source": [
    "\"\"\"\n",
    "This file is part of lc-power-match-baluns.\n",
    "Copyright © 2023 Technical University of Denmark (developed by Rasmus Jepsen)\n",
    "\n",
    "This library is free software; you can redistribute it and/or\n",
    "modify it under the terms of the GNU Lesser General Public\n",
    "License as published by the Free Software Foundation; either\n",
    "version 2.1 of the License, or (at your option) any later version.\n",
    "\n",
    "This library is distributed in the hope that it will be useful,\n",
    "but WITHOUT ANY WARRANTY; without even the implied warranty of\n",
    "MERCHANTABILITY or FITNESS FOR A PARTICULAR PURPOSE.  See the GNU\n",
    "Lesser General Public License for more details.\n",
    "\n",
    "You should have received a copy of the GNU Lesser General Public\n",
    "License along with this library; if not, write to the Free Software\n",
    "Foundation, Inc., 51 Franklin Street, Fifth Floor, Boston, MA  02110-1301  USA\n",
    "\"\"\""
   ]
  },
  {
   "cell_type": "code",
   "execution_count": null,
   "metadata": {},
   "outputs": [],
   "source": [
    "\"\"\"\n",
    "This notebook uses Tippet's technique [1] to combine pairs of two-port scattering parameters measured with a VNA into three-port scattering parameters.\n",
    "The code in this notebook was inspired by the process described in https://scikit-rf.readthedocs.io/en/latest/examples/metrology/Measuring%20a%20Mutiport%20Device%20with%20a%202-Port%20Network%20Analyzer.html\n",
    "\"\"\""
   ]
  },
  {
   "cell_type": "code",
   "execution_count": null,
   "metadata": {},
   "outputs": [],
   "source": [
    "# import modules\n",
    "import skrf as rf\n",
    "%matplotlib inline\n",
    "from pylab import *\n",
    "import numpy as np\n",
    "rf.stylely()"
   ]
  },
  {
   "cell_type": "code",
   "execution_count": null,
   "metadata": {},
   "outputs": [],
   "source": [
    "# input for the name of the network to combine scattering parameters for\n",
    "network_name = 'lattice'"
   ]
  },
  {
   "cell_type": "code",
   "execution_count": null,
   "metadata": {},
   "outputs": [],
   "source": [
    "# read the two-port scattering parameters from Touchstone files\n",
    "network12 = rf.Network(f'raw_data/{network_name} ports 1 2.s2p', 'network12', s_def='traveling')\n",
    "network23 = rf.Network(f'raw_data/{network_name} ports 2 3.s2p', 'network23', s_def='traveling')\n",
    "network13 = rf.Network(f'raw_data/{network_name} ports 1 3.s2p', 'network13', s_def='traveling')\n",
    "frequencies = network12.frequency"
   ]
  },
  {
   "cell_type": "code",
   "execution_count": null,
   "metadata": {},
   "outputs": [],
   "source": [
    "# populate the three-port scattering parameter matrix\n",
    "full_s = np.zeros(shape=(len(frequencies), 3, 3), dtype=np.complex_)\n",
    "full_s[:, 0, 0] = network12.s[:, 0, 0]\n",
    "full_s[:, 0, 1] = network12.s[:, 0, 1]\n",
    "full_s[:, 0, 2] = network13.s[:, 0, 1]\n",
    "full_s[:, 1, 0] = network12.s[:, 1, 0]\n",
    "full_s[:, 1, 1] = network12.s[:, 1, 1]\n",
    "full_s[:, 1, 2] = network23.s[:, 0, 1]\n",
    "full_s[:, 2, 0] = network13.s[:, 1, 0]\n",
    "full_s[:, 2, 1] = network23.s[:, 1, 0]\n",
    "full_s[:, 2, 2] = network23.s[:, 1, 1]\n",
    "full_network = rf.Network(frequency=frequencies, s=full_s, z0=[50, 50, 50], s_def='traveling')"
   ]
  },
  {
   "cell_type": "code",
   "execution_count": null,
   "metadata": {},
   "outputs": [],
   "source": [
    "# write the three-port scattering parameters into a Touchstone file\n",
    "full_network.write_touchstone(f'{network_name}.s3p', dir=f'processed_data')"
   ]
  },
  {
   "cell_type": "code",
   "execution_count": null,
   "metadata": {},
   "outputs": [],
   "source": [
    "\"\"\"References:\n",
    "[11] J. Tippet and R. Speciale, \"A rigorous technique for measuring the scattering matrix of a multiport device with a 2-port network analyzer,\" IEEE Transactions on Microwave Theory and Techniques, vol. 30, no. 5, pp. 661–666, 1982.\n",
    "\"\"\""
   ]
  }
 ],
 "metadata": {
  "kernelspec": {
   "display_name": "Python 3",
   "language": "python",
   "name": "python3"
  },
  "language_info": {
   "codemirror_mode": {
    "name": "ipython",
    "version": 3
   },
   "file_extension": ".py",
   "mimetype": "text/x-python",
   "name": "python",
   "nbconvert_exporter": "python",
   "pygments_lexer": "ipython3",
   "version": "3.11.3"
  }
 },
 "nbformat": 4,
 "nbformat_minor": 2
}
